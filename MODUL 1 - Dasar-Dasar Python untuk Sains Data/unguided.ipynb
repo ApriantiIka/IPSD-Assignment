{
 "cells": [
  {
   "cell_type": "markdown",
   "metadata": {},
   "source": [
    "### Soal 1: Memecahkan Masalah Unik dengan Loop dan If-Else\n",
    "**Soal**: Buatlah program yang dapat menghasilkan pola berbentuk angka seperti di bawah ini, dengan syarat angka yang ditampilkan adalah hasil dari penjumlahan bilangan prima sebelumnya:\n",
    "```\n",
    "1\n",
    "2 3\n",
    "5 7 11\n",
    "13 17 19 23\n",
    "...\n",
    "```\n",
    "Jumlah angka pada setiap baris bertambah 1, dan bilangan yang ditampilkan adalah bilangan prima"
   ]
  },
  {
   "cell_type": "code",
   "execution_count": 11,
   "metadata": {},
   "outputs": [
    {
     "name": "stdout",
     "output_type": "stream",
     "text": [
      "2\n",
      "3 5\n",
      "7 11 13\n",
      "17 19 23 29\n",
      "31 37 41 43 47\n",
      "53 59 61 67 71 73\n"
     ]
    }
   ],
   "source": [
    "def is_prime(n):\n",
    "    # Cek jika sebuah angka adalah prima\n",
    "    if n <= 1:\n",
    "        return False\n",
    "    for i in range(2, int(n ** 0.5) + 1):\n",
    "        if n % i == 0:\n",
    "            return False\n",
    "    return True\n",
    "\n",
    "def generate_prime_pattern(n):\n",
    "    # Generate pola prima hingga n baris\n",
    "    prime_sum = 1  # Inisialisasi jumlah prima dengan bilangan prima pertama\n",
    "    row = 1\n",
    "    while row <= n:\n",
    "        nums_in_row = []\n",
    "        for _ in range(row):\n",
    "            prime_found = False\n",
    "            while not prime_found:\n",
    "                prime_sum += 1\n",
    "                if is_prime(prime_sum):\n",
    "                    nums_in_row.append(prime_sum)\n",
    "                    prime_found = True\n",
    "        print(' '.join(map(str, nums_in_row)))\n",
    "        row += 1\n",
    "\n",
    "# Test fungsi\n",
    "generate_prime_pattern(6)\n",
    "\n",
    "# Kode di atas adalah kode yang digunakan untuk menghasilkan pola angka yang terdiri dari bilangan prima. Kode di atas menggunakan dua function di bawah ini:\n",
    "# - Function `is_prime(n)`, digunakan untuk memeriksa apakah angka `n` adalah bilangan prima atau tidak dengan menggunakan metode pembagian untuk memeriksa apakah `n` dapat dibagi oleh angka lain selain 1 dan dirinya sendiri.\n",
    "# - Funciton `generate_prime_pattern(n)`, digunakan untuk menghasilkan pola angka yang terdiri dari bilangan prima hingga `n` baris.\n",
    "# Kemudian function `generate_prime_pattern(6)` dipanggil dengan menghasilkan pola angka hingga 6 baris."
   ]
  },
  {
   "cell_type": "markdown",
   "metadata": {},
   "source": [
    "### Soal 2: Membuat Fungsi dengan Syarat Spesifik\n",
    "**Soal**: Buatlah sebuah fungsi yang menerima dua input berupa list angka. Fungsi ini harus mengembalikan sebuah list baru yang berisi elemen dari dua list input yang memiliki indeks ganjil. List baru tersebut juga harus diurutkan secara menurun berdasarkan nilai elemen."
   ]
  },
  {
   "cell_type": "code",
   "execution_count": 26,
   "metadata": {},
   "outputs": [
    {
     "name": "stdout",
     "output_type": "stream",
     "text": [
      "[23, 19, 7, 5, 1]\n"
     ]
    }
   ],
   "source": [
    "def gabung_list_ganjil(list1, list2):\n",
    "    # Buat list baru yang berisi elemen ganjil dari masing-masing list\n",
    "    gabung_list = [x for x in list1 + list2 if x % 2 != 0]\n",
    "    \n",
    "    # Urutkan list baru secara menurun berdasarkan nilai elemen\n",
    "    gabung_list.sort(reverse = True)\n",
    "    \n",
    "    return gabung_list\n",
    "\n",
    "list1 = [1, 2, 23, 4, 5]\n",
    "list2 = [6, 7, 8, 19, 10]\n",
    "print(gabung_list_ganjil(list1, list2))\n",
    "\n",
    "# Kode di atas adalah kode yang digunakan untuk menggabungkan dua list angka dan mengembalikan list baru yang berisi elemen ganjil dari kedua list tersebut. \n",
    "# Function yang digunakan dalam kode tersebut adalah function `gabung_list_ganjil(list1, list2)`. \n",
    "# Function `gabung_list_ganjil(list1, list2)` menerima dua input berupa list angka, yaitu `list1` dan `list2`. \n",
    "# Pertama, funciton ini akan menggabungkan `list1` dan `list2` menjadi satu list menggunakan operator `+`. \n",
    "# Kemudian function membuat list baru yang berisi elemen ganjil dari list gabungan. \n",
    "# Dalam kode ini, kondisi yang digunakan adalah `x % 2 != 0`. \n",
    "# Terakhir, function mengurutkan list baru secara menurun menggunakan metode `sprt()` dengan parameter `reverse = True`."
   ]
  },
  {
   "cell_type": "markdown",
   "metadata": {},
   "source": [
    "### Soal 3: Exception Handling dalam Konteks Nyata\n",
    "**Soal**: Buat sebuah program untuk mensimulasikan transaksi ATM. Program harus:\n",
    "1. Meminta pengguna memasukkan PIN (dibatasi 3 kali percobaan).\n",
    "2. Setelah PIN benar, meminta jumlah penarikan.\n",
    "3. Jika saldo kurang dari jumlah yang ditarik, munculkan pesan kesalahan.\n",
    "4. Jika penarikan berhasil, tampilkan saldo akhir."
   ]
  },
  {
   "cell_type": "code",
   "execution_count": 7,
   "metadata": {},
   "outputs": [
    {
     "name": "stdout",
     "output_type": "stream",
     "text": [
      "Penarikan berhasil. Saldo akhir: 4991000\n"
     ]
    }
   ],
   "source": [
    "class ATM:\n",
    "    def __init__ (self, saldo):\n",
    "        self.saldo = saldo\n",
    "        self.pin = \"306090\"\n",
    "\n",
    "    def cek_pin(self, pin):\n",
    "        if pin == self.pin:\n",
    "            return True\n",
    "        else:\n",
    "            return False\n",
    "\n",
    "    def tarik_tunai(self, jumlah):\n",
    "        if jumlah > self.saldo:\n",
    "            raise ValueError(\"Saldo Anda tidak cukup\")\n",
    "        else:\n",
    "            self.saldo -= jumlah\n",
    "            return self.saldo\n",
    "\n",
    "def main():\n",
    "    atm = ATM(5241000)\n",
    "    percobaan = 0\n",
    "    while percobaan < 3:\n",
    "        pin = input(\"Masukkan PIN: \")\n",
    "        if atm.cek_pin(pin):\n",
    "            break\n",
    "        else:\n",
    "            percobaan += 1\n",
    "            print(\"PIN salah. Silakan coba lagi.\")\n",
    "    else:\n",
    "        print(\"PIN salah 3 kali. Transaksi gagal.\")\n",
    "        return\n",
    "\n",
    "    jumlah = int(input(\"Masukkan jumlah penarikan: \"))\n",
    "    try:\n",
    "        saldo_akhir = atm.tarik_tunai(jumlah)\n",
    "        print(f\"Penarikan berhasil. Saldo akhir: {saldo_akhir}\")\n",
    "    except ValueError as e:\n",
    "        print(f\"Transaksi gagal. {e}\")\n",
    "\n",
    "main()\n",
    "\n",
    "# Kode di atas digunakan untuk mensimulasikan transaksi ATM.  \n",
    "# Class `ATM` memiliki tiga metode: `__init__` untuk menginisialisasi saldo dan PIN; `cek_pin` untuk mengecek kebenaran PIN yang dimasukkan; dan `tarik_tunai` untuk menarik tunai dari saldo. Pesan \"Saldo Anda tidak cukup\" akan ditampilkan jika saldo kurang.\n",
    "# Function utama yang menjalankan program adalah function `main()`. Function ini memiliki beberapa langkah, yaitu\n",
    "# Membuat object `ATM` dengan saldo awal 5.241.000. Kemudian mengecek PIN user dengan tiga kali percobaan. Jika PIN salah, maka akan mencoba lagi hingga tiga kali.\n",
    "# Jika PIN benar, maka akan diminta jumlah penarikan. Jika saldo tidak cukup, akan muncul pesan kesalahan. Jika penarikan berhasil, akan ditampilkan saldo akhir.\n",
    "# Selain itu, kode di atas menggunakan exception handling untuk menangani kesalahan yang terjadi saat tarik tunai. Jika saldo tidak cukup, program akan mengembalikan pesan kesalahan menggunakan `ValueError`.\n"
   ]
  },
  {
   "cell_type": "markdown",
   "metadata": {},
   "source": [
    "### Soal 4: Studi Kasus Pengelolaan Data\n",
    "**Soal**: Anda diberikan file CSV berisi data nilai ujian mahasiswa. Tugas Anda adalah menulis sebuah program yang:\n",
    "1. Membaca file CSV dan menyimpan datanya ke dalam dictionary.\n",
    "2. Menghitung rata-rata nilai tiap mahasiswa.\n",
    "3. Menampilkan mahasiswa dengan nilai tertinggi dan terendah."
   ]
  },
  {
   "cell_type": "code",
   "execution_count": 4,
   "metadata": {},
   "outputs": [
    {
     "name": "stdout",
     "output_type": "stream",
     "text": [
      "Mahasiswa dengan nilai tertinggi: ['Siswa_7', 'Siswa_28']\n",
      "Mahasiswa dengan nilai terendah: ['Siswa_5', 'Siswa_66', 'Siswa_93']\n"
     ]
    }
   ],
   "source": [
    "import csv\n",
    "\n",
    "def read_file_csv(file_name):\n",
    "    data = {}\n",
    "    with open(file_name, 'r') as file:\n",
    "        reader = csv.reader(file)\n",
    "        next(reader)  # Skip header\n",
    "        for row in reader:\n",
    "            nama = row[0]\n",
    "            nilai = [int(x) for x in row[1:]]\n",
    "            data[nama] = nilai\n",
    "    return data\n",
    "\n",
    "def hitung_rata_rata_nilai(data):\n",
    "    rata_rata_nilai = {}\n",
    "    for nama, nilai in data.items():\n",
    "        rata_rata_nilai[nama] = sum(nilai) / len(nilai)\n",
    "    return rata_rata_nilai\n",
    "\n",
    "def cari_mahasiswa_tertinggi_terendah(rata_rata_nilai):\n",
    "    max_nilai = max(rata_rata_nilai.values())\n",
    "    min_nilai = min(rata_rata_nilai.values())\n",
    "    mahasiswa_tertinggi = [nama for nama, nilai in rata_rata_nilai.items() if nilai == max_nilai]\n",
    "    mahasiswa_terendah = [nama for nama, nilai in rata_rata_nilai.items() if nilai == min_nilai]\n",
    "    return mahasiswa_tertinggi, mahasiswa_terendah\n",
    "\n",
    "def main():\n",
    "    file_name = 'siswa_nilai.csv'\n",
    "    data = read_file_csv(file_name)\n",
    "    rata_rata_nilai = hitung_rata_rata_nilai(data)\n",
    "    mahasiswa_tertinggi, mahasiswa_terendah = cari_mahasiswa_tertinggi_terendah(rata_rata_nilai)\n",
    "    print('Mahasiswa dengan nilai tertinggi:', mahasiswa_tertinggi)\n",
    "    print('Mahasiswa dengan nilai terendah:', mahasiswa_terendah)\n",
    "\n",
    "main()\n",
    "\n",
    "# Kode di atas adalah kode yang digunakan untuk membaca file csv yang berisi nilai siswa, menghitung rata-rata nilai setiap siswa, serta menampilkan siswa dengan nilai tertinggi dan terendah. \n",
    "# Terdapat beberapa function yang digunakan dalam kode di atas, seperti: function `read_file_csv(file_name)` untuk membaca file csv, function `hitung_rata_rata_nilai(data)` untuk menghitung rata-rata nilai setiap siswa, function `cari_mahasiswa_tertinggi_terendah(rata_rata_nilai)` untuk mencari siswa dengan nilai tertinggi dan terendah, dan funtion `main()` yaitu function utama yang menjalankan program."
   ]
  },
  {
   "cell_type": "markdown",
   "metadata": {},
   "source": [
    "### Soal 5: Kombinasi Logika dan Kreativitas\n",
    "**Soal**: Buatlah permainan sederhana menggunakan Python, di mana komputer akan memilih sebuah angka secara acak antara 1 hingga 100, dan pengguna harus menebak angka tersebut. Setiap tebakan yang salah akan memberikan petunjuk apakah angka yang ditebak lebih besar atau lebih kecil dari angka sebenarnya. Batasi jumlah percobaan menjadi 5 kali. Setelah permainan selesai, tampilkan apakah pemain menang atau kalah."
   ]
  },
  {
   "cell_type": "code",
   "execution_count": 5,
   "metadata": {},
   "outputs": [
    {
     "name": "stdout",
     "output_type": "stream",
     "text": [
      "Selamat datang di permainan tebak angka!\n",
      "Komputer telah memilih sebuah angka antara 1 hingga 100.\n",
      "Anda memiliki 5 kesempatan untuk menebak angka tersebut.\n",
      "Tebakan Anda terlalu kecil. Coba lagi!\n",
      "Anda memiliki 4 kesempatan lagi.\n",
      "Tebakan Anda terlalu kecil. Coba lagi!\n",
      "Anda memiliki 3 kesempatan lagi.\n",
      "Tebakan Anda terlalu kecil. Coba lagi!\n",
      "Anda memiliki 2 kesempatan lagi.\n",
      "Tebakan Anda terlalu kecil. Coba lagi!\n",
      "Anda memiliki 1 kesempatan lagi.\n",
      "Tebakan Anda terlalu kecil. Coba lagi!\n",
      "Anda memiliki 0 kesempatan lagi.\n",
      "Sayang sekali! Angka sebenarnya adalah 95.\n",
      "Anda kalah. Coba lagi lain kali!\n"
     ]
    }
   ],
   "source": [
    "import random\n",
    "\n",
    "def permainan_tebak_angka():\n",
    "    # Komputer memilih angka secara acak antara 1 hingga 100\n",
    "    angka_sebenarnya = random.randint(1, 100)\n",
    "    \n",
    "    # Inisialisasi jumlah percobaan\n",
    "    jumlah_percobaan = 5\n",
    "    \n",
    "    print(\"Selamat datang di permainan tebak angka!\")\n",
    "    print(\"Komputer telah memilih sebuah angka antara 1 hingga 100.\")\n",
    "    print(\"Anda memiliki 5 kesempatan untuk menebak angka tersebut.\")\n",
    "    \n",
    "    while jumlah_percobaan > 0:\n",
    "        # User memasukkan tebakan\n",
    "        tebakan = int(input(\"Masukkan tebakan Anda: \"))\n",
    "        \n",
    "        # Cek apakah tebakan benar\n",
    "        if tebakan == angka_sebenarnya:\n",
    "            print(\"Selamat! Anda telah menebak angka dengan benar.\")\n",
    "            return\n",
    "        \n",
    "        # Cek apakah tebakan lebih besar atau lebih kecil dari angka sebenarnya\n",
    "        elif tebakan > angka_sebenarnya:\n",
    "            print(\"Tebakan Anda terlalu besar. Coba lagi!\")\n",
    "        else:\n",
    "            print(\"Tebakan Anda terlalu kecil. Coba lagi!\")\n",
    "        \n",
    "        # Kurangi jumlah percobaan\n",
    "        jumlah_percobaan -= 1\n",
    "        print(f\"Anda memiliki {jumlah_percobaan} kesempatan lagi.\")\n",
    "    \n",
    "    # Jika user tidak berhasil menebak angka dalam 5 kesempatan\n",
    "    print(f\"Sayang sekali! Angka sebenarnya adalah {angka_sebenarnya}.\")\n",
    "    print(\"Anda kalah. Coba lagi lain kali!\")\n",
    "\n",
    "# Jalankan permainan\n",
    "permainan_tebak_angka()\n",
    "\n",
    "# Kode di atas adalah kode permainan tebak angka sederhana. \n",
    "# Library `random` dalam kode di atas digunakan untuk memilih angka secara acak dari 1-100. \n",
    "# Program ini kemudian meminta pengguna untuk menebak angka. \n",
    "# Jika tebakan benar, program ini akan menampilkan pesan selamat dan mengakhiri permainan. \n",
    "# Jika tebakan salah, program ini akan menunjukkan apakah angka yang ditebak lebih besar atau lebih kecil dari angka sebenarnya. \n",
    "# Selain itu, program ini membatasi jumlah percobaan menjadi lima kali. \n",
    "# Jika pengguna tidak berhasil menebak angka dalam lima kesempatan, program akan menampilkan pesan yang mengatakan bahwa mereka kalah dan mengakhiri permainan."
   ]
  },
  {
   "cell_type": "markdown",
   "metadata": {},
   "source": [
    "### Soal 6: Rekursi yang Tidak Biasa\n",
    "**Soal**: Buat fungsi rekursif yang menerima input bilangan bulat `n` dan menghasilkan urutan bilangan seperti berikut ini:\n",
    "```\n",
    "Input: n = 4\n",
    "Output: 1, 1, 2, 6, 24\n",
    "```\n",
    "Fungsi ini harus menggunakan konsep rekursi untuk menghitung faktorial setiap angka hingga `n`."
   ]
  },
  {
   "cell_type": "code",
   "execution_count": 6,
   "metadata": {},
   "outputs": [
    {
     "name": "stdout",
     "output_type": "stream",
     "text": [
      "[1, 2, 6, 24, 120]\n"
     ]
    }
   ],
   "source": [
    "def faktorial_rekursif(n):\n",
    "# Fungsi ini menggunakan konsep rekursi untuk menghitung faktorial setiap angka\n",
    "    if n == 0 or n == 1:\n",
    "        return 1\n",
    "    else:\n",
    "        return n * faktorial_rekursif(n-1)\n",
    "\n",
    "def urutan_faktorial(n):\n",
    "# Fungsi ini membuat urutan bilangan faktorial dari 1 hingga n. Fungsi ini menggunakan loop untuk menghitung faktorial setiap angka menggunakan fungsi `faktorial_rekursif` dan hasilnya disimpan dalam sebuah list.\n",
    "    urutan = []\n",
    "    for i in range(1, n+1):\n",
    "        urutan.append(faktorial_rekursif(i))\n",
    "    return urutan\n",
    "\n",
    "n = int(input(\"Masukkan bilangan bulat: \"))\n",
    "print(urutan_faktorial(n))\n",
    "\n",
    "# "
   ]
  },
  {
   "cell_type": "markdown",
   "metadata": {},
   "source": [
    "### Soal 7: Pemrograman dengan Algoritma Greedy\n",
    "**Soal**: Buatlah program untuk memecahkan masalah \"minimum coin change\". Diberikan jumlah uang dan daftar nilai koin yang tersedia (misalnya, 1, 5, 10, 25), tentukan kombinasi minimum koin yang diperlukan untuk mencapai jumlah uang tersebut. Namun, program Anda harus bisa menangani koin-koin yang nilai dan jumlahnya ditentukan pengguna."
   ]
  },
  {
   "cell_type": "code",
   "execution_count": 13,
   "metadata": {},
   "outputs": [
    {
     "name": "stdout",
     "output_type": "stream",
     "text": [
      "Kombinasi minimum koin: [500, 500, 50]\n"
     ]
    }
   ],
   "source": [
    "def minimum_coin_change(jumlah_uang, koin):\n",
    "    # Inisialisasi list untuk menyimpan kombinasi koin\n",
    "    kombinasi_koin = []\n",
    "    \n",
    "    # Urutkan koin dari nilai terbesar ke terkecil\n",
    "    koin.sort(reverse=True)\n",
    "    \n",
    "    # Loop untuk mencari kombinasi koin\n",
    "    for k in koin:\n",
    "        while jumlah_uang >= k:\n",
    "            # Tambahkan koin ke kombinasi koin\n",
    "            kombinasi_koin.append(k)\n",
    "            # Kurangi jumlah uang dengan nilai koin\n",
    "            jumlah_uang -= k\n",
    "    \n",
    "    return kombinasi_koin\n",
    "\n",
    "# Contoh penggunaan\n",
    "jumlah_uang = int(input(\"Masukkan jumlah uang: \"))\n",
    "koin = list(map(int, input(\"Masukkan nilai koin (pisahkan dengan spasi): \").split()))\n",
    "print(\"Kombinasi minimum koin:\", minimum_coin_change(jumlah_uang, koin))\n",
    "\n",
    "# Kode di atas menggunakan algoritma greedy untuk memecahkan masalah minimum coin change\n",
    "# Looping pada program di atas adalah untuk mencari kombinasi koin. \n",
    "# Cek apakah ada cukup uang untuk menggunakan koin tersebut. Jika cukup, tambahkan koin ke kombinasi koin dan kurangi jumlah uang dengan nilai koin."
   ]
  },
  {
   "cell_type": "markdown",
   "metadata": {},
   "source": [
    "### Soal 8: Kombinasi String dan Manipulasi List\n",
    "**Soal**: Buat sebuah program yang menerima string dari pengguna dan mengonversi string tersebut menjadi sebuah list berisi kata-kata terbalik. Misalnya:\n",
    "```\n",
    "Input: \"Saya suka Python\"\n",
    "Output: [\"ayaS\", \"akus\", \"nohtyP\"]\n",
    "```"
   ]
  },
  {
   "cell_type": "code",
   "execution_count": 16,
   "metadata": {},
   "outputs": [
    {
     "name": "stdout",
     "output_type": "stream",
     "text": [
      "['karpaL', 'tepad', '001', 'niimaA']\n"
     ]
    }
   ],
   "source": [
    "def string_to_reversed_words(input_string):\n",
    "    # Split inputan string menjadi words\n",
    "    words = input_string.split()\n",
    "    \n",
    "    # Inisialisasi list kosong untuk menyimpan reversed words\n",
    "    reversed_words = []\n",
    "    \n",
    "    # Lakukan iterasi melalui setiap kata dan balikkan\n",
    "    for word in words:\n",
    "        reversed_word = word[::-1]\n",
    "        reversed_words.append(reversed_word)\n",
    "    \n",
    "    return reversed_words\n",
    "\n",
    "input_string = input(\"Masukkan string: \")\n",
    "print(string_to_reversed_words(input_string))"
   ]
  },
  {
   "cell_type": "markdown",
   "metadata": {},
   "source": [
    "### Soal 9: Konsep Class dan Object-Oriented Programming\n",
    "**Soal**: Buat class bernama `Buku` yang memiliki atribut `judul`, `penulis`, dan `tahun_terbit`. Buat method dalam class untuk menampilkan informasi buku, serta method untuk menghitung usia buku berdasarkan tahun saat ini. Buatlah 3 objek dari class `Buku` dan tampilkan informasi serta usia masing-masing buku."
   ]
  },
  {
   "cell_type": "code",
   "execution_count": 19,
   "metadata": {},
   "outputs": [
    {
     "name": "stdout",
     "output_type": "stream",
     "text": [
      "Informasi Buku 1:\n",
      "Judul: Ily\n",
      "Penulis: Tere Liye\n",
      "Tahun Terbit: 2024\n",
      "Usia: 0 tahun\n",
      "\n",
      "Informasi Buku 2:\n",
      "Judul: The Midnight Library\n",
      "Penulis: Matt Haig\n",
      "Tahun Terbit: 2020\n",
      "Usia: 4 tahun\n",
      "\n",
      "Informasi Buku 3:\n",
      "Judul: I'm not Stupid\n",
      "Penulis: Khusnul Art\n",
      "Tahun Terbit: 2024\n",
      "Usia: 0 tahun\n"
     ]
    }
   ],
   "source": [
    "from datetime import date\n",
    "\n",
    "class Buku:\n",
    "    def __init__(self, judul, penulis, tahun_terbit):\n",
    "        self.judul = judul\n",
    "        self.penulis = penulis\n",
    "        self.tahun_terbit = tahun_terbit\n",
    "\n",
    "    def tampilkan_informasi(self):\n",
    "        print(f\"Judul: {self.judul}\")\n",
    "        print(f\"Penulis: {self.penulis}\")\n",
    "        print(f\"Tahun Terbit: {self.tahun_terbit}\")\n",
    "\n",
    "    def hitung_usia(self):\n",
    "        tahun_saat_ini = date.today().year\n",
    "        usia = tahun_saat_ini - self.tahun_terbit\n",
    "        return usia\n",
    "\n",
    "# Buat 3 objek dari class Buku\n",
    "buku1 = Buku(\"Ily\", \"Tere Liye\", 2024)\n",
    "buku2 = Buku(\"The Midnight Library\", \"Matt Haig\", 2020)\n",
    "buku3 = Buku(\"I'm not Stupid\", \"Khusnul Art\", 2024)\n",
    "\n",
    "# Tampilkan informasi dan usia dari masing-masing buku\n",
    "print(\"Informasi Buku 1:\")\n",
    "buku1.tampilkan_informasi()\n",
    "print(f\"Usia: {buku1.hitung_usia()} tahun\")\n",
    "print()\n",
    "\n",
    "print(\"Informasi Buku 2:\")\n",
    "buku2.tampilkan_informasi()\n",
    "print(f\"Usia: {buku2.hitung_usia()} tahun\")\n",
    "print()\n",
    "\n",
    "print(\"Informasi Buku 3:\")\n",
    "buku3.tampilkan_informasi()\n",
    "print(f\"Usia: {buku3.hitung_usia()} tahun\")"
   ]
  },
  {
   "cell_type": "markdown",
   "metadata": {},
   "source": [
    "### Soal 10: Algoritma dengan Persyaratan Logika Khusus\n",
    "**Soal**: Buatlah program yang mengimplementasikan algoritma pencarian biner, namun dengan modifikasi: algoritma harus bisa mencari nilai di list yang hanya berisi angka genap, dan jika nilai yang dicari adalah angka ganjil, program harus menampilkan pesan bahwa nilai tersebut tidak bisa ditemukan."
   ]
  },
  {
   "cell_type": "code",
   "execution_count": 21,
   "metadata": {},
   "outputs": [
    {
     "name": "stdout",
     "output_type": "stream",
     "text": [
      "Nilai tidak ditemukan\n"
     ]
    }
   ],
   "source": [
    "def binary_search_even(angka, target):\n",
    "    low = 0\n",
    "    high = len(angka) - 1\n",
    "\n",
    "    while low <= high: # melakukan looping sampai low lebih besar dari high\n",
    "        mid = (low + high) // 2\n",
    "        if angka[mid] == target:\n",
    "            if target % 2 == 0:  # mengecek jika target adalah bilangan genap atau ganjil\n",
    "                return mid\n",
    "            else:\n",
    "                return \"Nilai ganjil tidak dapat ditemukan\"\n",
    "        elif angka[mid] < target:\n",
    "            low = mid + 1\n",
    "        else:\n",
    "            high = mid - 1\n",
    "\n",
    "    return \"Nilai tidak ditemukan\"\n",
    "\n",
    "angka = [2, 4, 6, 8, 10, 12, 14, 16, 18, 20]\n",
    "target = 11\n",
    "hasil = binary_search_even(angka, target)\n",
    "print(hasil)  # Output: Nilai ganjil tidak dapat ditemukan"
   ]
  }
 ],
 "metadata": {
  "kernelspec": {
   "display_name": "Python 3",
   "language": "python",
   "name": "python3"
  },
  "language_info": {
   "codemirror_mode": {
    "name": "ipython",
    "version": 3
   },
   "file_extension": ".py",
   "mimetype": "text/x-python",
   "name": "python",
   "nbconvert_exporter": "python",
   "pygments_lexer": "ipython3",
   "version": "3.12.6"
  }
 },
 "nbformat": 4,
 "nbformat_minor": 2
}
